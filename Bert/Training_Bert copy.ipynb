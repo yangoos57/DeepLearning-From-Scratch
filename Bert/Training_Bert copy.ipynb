{
 "cells": [
  {
   "cell_type": "markdown",
   "metadata": {},
   "source": [
    "# Bert"
   ]
  },
  {
   "cell_type": "markdown",
   "metadata": {},
   "source": [
    "### Bert 소개\n",
    "\n",
    "* Transformer의 encoder 부분만 활용\n",
    "\n",
    "* NLP 분야에 Fine-Tuning 개념 도입\n",
    "* Masked Language Model[MLM] 뿐만아니라 Next Sentence Prediction[NSP]를 통해 학습"
   ]
  },
  {
   "cell_type": "markdown",
   "metadata": {},
   "source": [
    "## JointEmbedding \n",
    "Bert Embedding 종류는 세가지\n",
    "\n",
    "* Token Embeddings : token을 indices로 변경\n",
    "\n",
    "* Segment Embeddings : 2개 문장의 단어를 구분하기 위해 0,1로 표시 ex) [0,0,0, ... 1,1,1]\n",
    "\n",
    "* Position Embeddings : 전체 단어의 순번 \n",
    "\n",
    "  <img alt='img0' src='./img/img0.png' style=\"width : 400px\">\n",
    "\n",
    "## WordPiece Embedding \n",
    "\n",
    "* Word Piece는 context 기반, word embedding은 단어 기반\n",
    "* Bank라는 단어는 문맥에 따라 여러 의미로 쓰임. \n",
    "* ex) We Went to river Bank || I need to go to bank \n",
    "* Word Piece는 두 개의 vector를 생성한다면 word embbeding은 하나의 vector만 생성함.\n",
    "\n",
    "  <a href = 'https://medium.com/swlh/differences-between-word2vec-and-bert-c08a3326b5d1'> 출처 : WordPiece Embedding과 Word2Vec차이 </a>\n"
   ]
  },
  {
   "cell_type": "code",
   "execution_count": 1,
   "metadata": {},
   "outputs": [],
   "source": [
    "import torch\n",
    "from torch import nn\n",
    "\n",
    "class JointEmbedding(nn.Module) : \n",
    "\n",
    "    def __init__(self, vocab_size, size, device='cpu') :\n",
    "        super().__init__()\n",
    "        self.size = size\n",
    "        self.device = device\n",
    "\n",
    "        self.token_emb = nn.Embedding(vocab_size, size)\n",
    "        self.segment_emb = nn.Embedding(vocab_size, size)\n",
    "\n",
    "        self.norm =  nn.LayerNorm(size)\n",
    "\n",
    "    def forward(self,input_tensor) : \n",
    "        # positional embbeding\n",
    "        pos_tensor = self.attention_position(self.size, input_tensor)\n",
    "        # segment embedding\n",
    "        segment_tensor = torch.zeros_like(input_tensor).to(self.device)\n",
    "\n",
    "        # embedding size의 반은 0 반은 1임\n",
    "        sentence_size = input_tensor.size(-1)\n",
    "        segment_tensor[:, sentence_size // 2 + 1:] = 1\n",
    "\n",
    "        output = self.token_emb(input_tensor) + self.segment_emb(segment_tensor) + pos_tensor\n",
    "        return self.norm(output)\n",
    "\n",
    "    def attention_position(self,dim,input_tensor) :\n",
    "        '''\n",
    "        ????\n",
    "        '''\n",
    "        # input_tensor row 크기 \n",
    "        batch_size = input_tensor.size(0)\n",
    "\n",
    "        # 문장 길이\n",
    "        sentence_size = input_tensor(-1)\n",
    "\n",
    "        # pos 정의 longtype = int64\n",
    "        pos = torch.arange(sentence_size, dtype=torch.long).to(self.device)\n",
    "\n",
    "        # d = sentence 내 허용 token 개수\n",
    "        d = torch.arange(dim, dtype=torch.long).to(self.device)\n",
    "        d = (2*d /dim)\n",
    "\n",
    "        # unsqueeze 공부해야할듯..\n",
    "        pos = pos.unsqueeze(1)\n",
    "        pos = pos / (1e4**d)\n",
    "\n",
    "        pos[:, ::2] = torch.sin(pos[:, ::2])\n",
    "        pos[:, 1::2] = torch.cos(pos[:, 1::2])\n",
    "\n",
    "        # *pos는 처음 보는 방식인데\n",
    "        return pos.expand(batch_size, *pos.size())\n",
    "\n",
    "# \n",
    "    def numeric_position(self,dim,input_tensor) : \n",
    "        pos_tensor = torch.arange(dim,dtype=torch.long).to(self.device)\n",
    "        return pos_tensor.expand_as(input_tensor)\n",
    "\n",
    "\n",
    "    \n",
    "\n"
   ]
  },
  {
   "cell_type": "markdown",
   "metadata": {},
   "source": [
    "### Bert 논문 기본 parameter\n",
    "1. Encoder = 12\n",
    "2. heads = 12\n",
    "3. Hidden Layer(=embedding size) = 768\n",
    "4. word piece = 30522(30522개 단어라는 말)\n",
    "5. Parameter = 110M\n",
    "\n",
    "\n",
    "### 110M 계산하기 \n",
    "* 30522*768 = 24M\n",
    "* 12 encoder = 84M \n",
    "* Dense Weight Matrix and Bias [768, 768] = 589824, [768] = 768, (589824 + 768 = 590592)\n",
    "= 110M\n",
    "\n",
    "    <a href='https://stackoverflow.com/questions/64485777/how-is-the-number-of-parameters-be-calculated-in-bert-model'>상세 링크</a>\n"
   ]
  },
  {
   "cell_type": "code",
   "execution_count": null,
   "metadata": {},
   "outputs": [],
   "source": [
    "import torch.nn\n",
    "\n",
    "class Bert(nn.Module) : \n",
    "    def __init__(self,vocab_size,dim_input,dim_output, attention_heads = 12) -> None:\n",
    "        '''\n",
    "        vocab_size : input vocab total\n",
    "        dim_input : (=hidden_layer= embedding_size) 768 \n",
    "        dim_output : (=hidden_layer= embedding_size) 768\n",
    "        '''\n",
    "        super().__init__()\n",
    "        self.embedding = JointEmbedding(vocab_size,dim_input)\n",
    "        self.transformerEndoerLayer = nn.TransformerEncoderLayer(d_model=dim_input,nhead=attention_heads,activation='gelu')\n",
    "        # bert Base 12 layer \n",
    "        self.transformerEncoder = nn.TransformerEncoder(self.transformerEndoerLayer,12)\n",
    "        self.token_prediction_layer = nn.Linear(dim_input,vocab_size)\n",
    "        self.softmax = nn.LogSoftmax(dim=-1)\n",
    "        self.classification_layer = nn.Linear(dim_input,2)\n",
    "\n",
    "    def forward(self, input_tensor, attention_mask) : \n",
    "        embedded = self.embedding(input_tensor)\n",
    "        encoded = self.transformerEncoder(input_tensor,attention_mask)\n",
    "\n",
    "        token_predictions = self.token_prediction_layer(encoded)\n",
    "\n",
    "        # 1번째 단어 추출\n",
    "        first_word = encoded[:, 0, :]\n",
    "\n",
    "        return self.softmax(token_predictions), self.classification_layer(first_word)\n",
    "\n",
    "    "
   ]
  },
  {
   "cell_type": "code",
   "execution_count": 3,
   "metadata": {},
   "outputs": [
    {
     "data": {
      "text/plain": [
       "110000000"
      ]
     },
     "execution_count": 3,
     "metadata": {},
     "output_type": "execute_result"
    }
   ],
   "source": [
    "1000000*110"
   ]
  }
 ],
 "metadata": {
  "kernelspec": {
   "display_name": "Python 3.9.1 64-bit",
   "language": "python",
   "name": "python3"
  },
  "language_info": {
   "codemirror_mode": {
    "name": "ipython",
    "version": 3
   },
   "file_extension": ".py",
   "mimetype": "text/x-python",
   "name": "python",
   "nbconvert_exporter": "python",
   "pygments_lexer": "ipython3",
   "version": "3.9.1"
  },
  "orig_nbformat": 4,
  "vscode": {
   "interpreter": {
    "hash": "b2097164ba635ebffc0e3795dc845ae25b57eedf0c1eb5773ded6aee9fc1b279"
   }
  }
 },
 "nbformat": 4,
 "nbformat_minor": 2
}
